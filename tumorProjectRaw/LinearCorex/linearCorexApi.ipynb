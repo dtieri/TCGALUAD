{
 "cells": [
  {
   "cell_type": "code",
   "execution_count": 11,
   "metadata": {},
   "outputs": [],
   "source": [
    "import linearcorex as lc\n",
    "import numpy as np\n",
    "import pandas as pd"
   ]
  },
  {
   "cell_type": "code",
   "execution_count": 2,
   "metadata": {},
   "outputs": [
    {
     "data": {
      "text/plain": [
       "numpy.ndarray"
      ]
     },
     "execution_count": 2,
     "metadata": {},
     "output_type": "execute_result"
    }
   ],
   "source": [
    "X = np.random.random((9, 20))  # Random data with 9 samples and 20 variables\n",
    "type(X)\n",
    "#X[1,1]=2\n",
    "#X"
   ]
  },
  {
   "cell_type": "code",
   "execution_count": 12,
   "metadata": {
    "collapsed": true
   },
   "outputs": [],
   "source": [
    "import pathlib\n",
    "dir='LUADGeneTableVSTii0_200_1_40'\n",
    "pathlib.Path('out/'+dir).mkdir(parents=False, exist_ok=False) "
   ]
  },
  {
   "cell_type": "code",
   "execution_count": 13,
   "metadata": {
    "scrolled": true
   },
   "outputs": [
    {
     "data": {
      "text/plain": [
       "(123, 37475)"
      ]
     },
     "execution_count": 13,
     "metadata": {},
     "output_type": "execute_result"
    }
   ],
   "source": [
    "X=pd.read_csv('../out/LUADGeneTableVSTii.csv',index_col=0)\n",
    "#X=X.iloc[0:20,0:40]\n",
    "#X.columns\n",
    "#Xp=X.values\n",
    "#type(Xp)\n",
    "#X=Xp[0:9,0:20]\n",
    "X.shape"
   ]
  },
  {
   "cell_type": "code",
   "execution_count": 14,
   "metadata": {},
   "outputs": [
    {
     "name": "stdout",
     "output_type": "stream",
     "text": [
      "Linear CorEx with 200 latent factors\n",
      "724 iterations to tol: 0.000010, TC=17053.780548\n",
      "Warning: step size becoming too small\n",
      "8909 iterations to tol: 0.000010, TC=28087.208740\n",
      "2819 iterations to tol: 0.000010, TC=33621.609131\n",
      "Warning: step size becoming too small\n",
      "889 iterations to tol: 0.000010, TC=35995.180176\n",
      "227 iterations to tol: 0.000010, TC=36916.924683\n",
      "575 iterations to tol: 0.000010, TC=37263.410278\n",
      "253 iterations to tol: 0.000010, TC=37459.958252\n",
      "Linear CorEx with 40 latent factors\n",
      "728 iterations to tol: 0.000010, TC=5.666245\n",
      "209 iterations to tol: 0.000010, TC=10.653187\n",
      "37 iterations to tol: 0.000010, TC=12.878513\n",
      "78 iterations to tol: 0.000010, TC=13.750801\n",
      "Warning: step size becoming too small\n",
      "38 iterations to tol: 0.000010, TC=14.071396\n",
      "47 iterations to tol: 0.000010, TC=14.191406\n",
      "35 iterations to tol: 0.000010, TC=14.258301\n"
     ]
    }
   ],
   "source": [
    "dim0=200\n",
    "dim1=40\n",
    "\n",
    "out0 = lc.Corex(n_hidden=dim0, verbose=True,gaussianize='outliers')  # A Corex model with dim0 factors\n",
    "out0.fit(X)  # Fit the model on data\n",
    "y0 = out0.transform(X)  # Transform data into latent factors\n",
    "#print(out0.clusters)  # See the clusters\n",
    "#cov = out0.get_covariance()  # The covariance matrix\n",
    "\n",
    "\n",
    "out1 = lc.Corex(n_hidden=dim1, verbose=True,gaussianize='outliers')  # A Corex model with dim1 factors\n",
    "out1.fit(y0)  # Fit the model on data\n",
    "y1 = out1.transform(y0)  # Transform data into latent factors"
   ]
  },
  {
   "cell_type": "code",
   "execution_count": 31,
   "metadata": {},
   "outputs": [
    {
     "data": {
      "text/plain": [
       "142"
      ]
     },
     "execution_count": 31,
     "metadata": {},
     "output_type": "execute_result"
    }
   ],
   "source": [
    "out0.clusters()[6]"
   ]
  },
  {
   "cell_type": "code",
   "execution_count": 15,
   "metadata": {},
   "outputs": [],
   "source": [
    "corexGroups=pd.DataFrame(data=out0.clusters(), index=X.transpose().index)\n",
    "corexGroups.columns=['group0']\n",
    "\n",
    "#mI0=[]\n",
    "#for ii in range(0, len(out0.clusters())):\n",
    "#    mI0.append(out0.mis[out0.clusters()[ii],ii])\n",
    "#len(mI0)\n",
    "#corexGroups['mI0']=mI0\n",
    "\n",
    "lCGroup1=[]\n",
    "for ii in range(0, len(out0.clusters())):\n",
    "    lCGroup1.append(out1.clusters()[out0.clusters()[ii]])\n",
    "corexGroups['group1']=lCGroup1\n",
    "\n",
    "corexGroups.to_csv('out/'+dir+'/corexGroups.csv')"
   ]
  },
  {
   "cell_type": "code",
   "execution_count": 16,
   "metadata": {
    "collapsed": true
   },
   "outputs": [],
   "source": [
    "corexGroup1=pd.DataFrame(data=out1.clusters(), index=y0.transpose().index)\n",
    "corexGroup1.columns=['group1']\n",
    "\n",
    "#mI0=[]\n",
    "#for ii in range(0, len(out0.clusters())):\n",
    "#    mI0.append(out0.mis[out0.clusters()[ii],ii])\n",
    "#len(mI0)\n",
    "#corexGroups['mI0']=mI0\n",
    "\n",
    "corexGroup1.to_csv('out/'+dir+'/corexGroup1.csv')"
   ]
  },
  {
   "cell_type": "code",
   "execution_count": 17,
   "metadata": {
    "collapsed": true
   },
   "outputs": [],
   "source": [
    "corexGroupsWithOverlapMis=pd.DataFrame(data=out0.mis.transpose(), index=X.transpose().index)\n",
    "\n",
    "#corexGroupsWithOverlap\n",
    "\n",
    "corexGroupsWithOverlapMis.to_csv('out/'+dir+'/mis.csv')"
   ]
  },
  {
   "cell_type": "code",
   "execution_count": 18,
   "metadata": {
    "collapsed": true
   },
   "outputs": [],
   "source": [
    "labels0=pd.DataFrame(data=y0,index=X.index)\n",
    "labels0\n",
    "labels0.to_csv('out/'+dir+'/labels0.csv')"
   ]
  },
  {
   "cell_type": "code",
   "execution_count": 19,
   "metadata": {
    "collapsed": true
   },
   "outputs": [],
   "source": [
    "totalCorrelation0=pd.DataFrame(data=out0.tcs, index=list(range(len(out0.tcs))))\n",
    "totalCorrelation0.columns=['totalCorrelation']\n",
    "totalCorrelation0.to_csv('out/'+dir+'/totalCorrelation0.csv')\n",
    "\n",
    "totalCorrelation1=pd.DataFrame(data=out1.tcs, index=list(range(len(out1.tcs))))\n",
    "totalCorrelation1.columns=['totalCorrelation']\n",
    "totalCorrelation1.to_csv('out/'+dir+'/totalCorrelation1.csv')"
   ]
  }
 ],
 "metadata": {
  "kernelspec": {
   "display_name": "Python 3",
   "language": "python",
   "name": "python3"
  },
  "language_info": {
   "codemirror_mode": {
    "name": "ipython",
    "version": 3
   },
   "file_extension": ".py",
   "mimetype": "text/x-python",
   "name": "python",
   "nbconvert_exporter": "python",
   "pygments_lexer": "ipython3",
   "version": "3.5.4"
  }
 },
 "nbformat": 4,
 "nbformat_minor": 2
}
